{
 "cells": [
  {
   "cell_type": "code",
   "execution_count": 40,
   "metadata": {},
   "outputs": [
    {
     "name": "stderr",
     "output_type": "stream",
     "text": [
      "[nltk_data] Downloading package punkt to /home/nyjoey/nltk_data...\n",
      "[nltk_data]   Package punkt is already up-to-date!\n"
     ]
    },
    {
     "data": {
      "text/plain": [
       "True"
      ]
     },
     "execution_count": 40,
     "metadata": {},
     "output_type": "execute_result"
    }
   ],
   "source": [
    "import numpy as np\n",
    "import pandas as pd\n",
    "import nltk\n",
    "from nltk.tokenize import sent_tokenize\n",
    "import re\n",
    "nltk.download('punkt') # one time execution"
   ]
  },
  {
   "cell_type": "code",
   "execution_count": 41,
   "metadata": {},
   "outputs": [],
   "source": [
    "file = open('72382f2c98567b30ebf223f25cfb715c1f28.txt', 'r')"
   ]
  },
  {
   "cell_type": "code",
   "execution_count": 42,
   "metadata": {},
   "outputs": [
    {
     "data": {
      "text/plain": [
       "<_io.TextIOWrapper name='72382f2c98567b30ebf223f25cfb715c1f28.txt' mode='r' encoding='UTF-8'>"
      ]
     },
     "execution_count": 42,
     "metadata": {},
     "output_type": "execute_result"
    }
   ],
   "source": [
    "file"
   ]
  },
  {
   "cell_type": "code",
   "execution_count": 43,
   "metadata": {},
   "outputs": [
    {
     "data": {
      "text/plain": [
       "['Artificial neural networks are biologically inspired classification algorithms that consist of an input layer of nodes, one or more hidden layers and an output layer. \\n',\n",
       " 'Each node in a layer has one corresponding node in the next layer, thus creating the\\n',\n",
       " 'stacking eﬀect [1].\\n',\n",
       " 'Artificial neural networks are the very versatile tools and have been widely used to tackle many issues [2-6]. \\n',\n",
       " 'Feed-forward neural networks (FNN) are one of the popular structures among artificial neural networks. \\n',\n",
       " 'These eﬃcient networks are widely used to solve complex problems by modeling complex input-output relationships.\\n',\n",
       " 'However, FNNs often end up being over trained. \\n',\n",
       " 'They adopt trials-and-errors to seek possible values of parameters for convergence of the global optimum. \\n',\n",
       " 'The learning process of an FNN cannot guarantee the global optimum, sometimes trapping the network into the local optimum. The back-propagation learning algorithm (BPLA) is a widely used method for FNN learning in many applications. \\n',\n",
       " 'It has the great advantage of simple implementation [9].\\n',\n",
       " 'In addition, many studies have indicated that genetic algorithms (GA) can be successfully applied to identity global optimizations of multidimensional\\n',\n",
       " 'functions [10,11]. \\n',\n",
       " 'GAs are widely applied in the optimization of the parameters spaces of neural networks. Traditional optimization techniques can also determine the number of network parameters, such as network connection weightings; however, they are not able to control the parameter optimizations in the absence of gradient information.\\n',\n",
       " 'In contrast, GAs are able to resolve this issue. \\n',\n",
       " 'They can be widely used in all aspects of neural networks. Examples include the determination of network structures (the number of input nodes, the number of hidden layers, the number of nodes in the hidden layers, and the number of output nodes), and the optimization of parameters such as the selection of node switch functions, connection weightings and learning speeds [12].\\n',\n",
       " 'Sexton and Gupta [13] pointed out that GAs are able to process a large variety of data\\n',\n",
       " 'types, as soon as they can be expressed with bits of fixed lengths. GAs also yield good\\n',\n",
       " 'outcomes for optimization. \\n',\n",
       " 'The above study proved that GAs are superior to BPLAs.\\n',\n",
       " 'However, their study does not specify the sources and quantities of their data. In other\\n',\n",
       " 'words, they do not use diﬀerent data types to train and compare a GA and BPLA.\\n',\n",
       " 'Based on the above analysis, this study focuses on performances in the training of FNN\\n',\n",
       " 'with BPLAs and GAs.\\n',\n",
       " 'The data types used to compare the performances of these two\\n',\n",
       " 'algorithms are Sin function, Iris plants and Diabetes.Section 2 introduces the concepts of BPLA and GA; Section 3 expresses the procedures of BPLA and GA for FNN training; Sections 4 and 5 describe the data types, results and analyses; finally, conclusions are given in Section 6. \\n',\n",
       " 'Back-propagation neural network. \\n',\n",
       " 'BPLAs were proposed by Rumelhart et al. [14]. \\n',\n",
       " 'They have since become famous learning algorithms among ANNs. \\n',\n",
       " 'In the learning process, to reduce the inaccuracy of ANNs, BPLAs use the gradient-decent search method to adjust the connection weights.\\n',\n",
       " 'The output of each neuron is the aggregation of the numbers of neurons of the\\n',\n",
       " 'previous level multiplied by its corresponding weights. \\n',\n",
       " 'The input values are converted into output signals with the calculations of activation functions [15]. \\n',\n",
       " 'Back-propagation ANNs have been widely and successfully applied in diverse applications, such as pattern recognition, location selection and performance evaluations.\\n',\n",
       " 'Wang and Bai [16] applied a back-propagation ANN to assess and predict the quality of\\n',\n",
       " 'water by overcoming problems associated with heavy workloads and excessive subjectivity\\n',\n",
       " 'in traditional assessment methods. \\n',\n",
       " 'The results were objective and accurate.\\n',\n",
       " 'There is no need to carry out complex pre-processing in order to monitor data and the workload is light.\\n',\n",
       " 'Wu et al. [17] established a back-propagation ANN for the identification of lifespan distributions of for machinery products. \\n',\n",
       " 'The simulation results show that backpropagation ANNs are suitable for identifying the lifespan distribution models when large ranges of parameters exist.\\n',\n",
       " 'Bongards [18] used back-propagation to predict and control the improvement in density of ammonia and total nitrogen in waste water processing plants. \\n',\n",
       " 'Chou et al. [3] and Xiao and Chandrasekar [19] also successfully applied back-propagation ANNs for patterning of e-commerce customers patterning and rainfall estimation from radar data separately. \\n',\n",
       " 'Che [20] employed a back-propagation ANN for product and mold cost estimation of plastic injection molding. 2.2. Genetic algorithms. GAs were proposed by Holland in 1975, as optimization search mechanisms for natural selection. The fundamental principle is to imitate the law of natural selection in nature by choosing parents with better characteristics. \\n',\n",
       " 'Random interactions of bit information are carried out, in the hope of generating oﬀspring superior to parents. \\n',\n",
       " 'The continuous repeats see the birth of optimal species with the strongest adaptability. Chang et al. [21] applied a GA and the testing design principles to develop the optimal design model for underground wells.\\n',\n",
       " 'The outcome shows that the monitoring well should be located in the area adjacent to the water pumping well and the water pumping well should be deployed in the region with smaller transmission.\\n',\n",
       " 'This reduces the uncertainties of estimation parameters.\\n',\n",
       " 'Jiang and Yuan [22] proposed credit valuations based on GAs and neural networks, and controlled the occurrence of Type-2 errors of commercial banks that lead to heavy losses in the design of credit valuations by using GA adaptability functions. \\n',\n",
       " 'The results show that the model is high in reliability and applicability.\\n',\n",
       " 'Jiang and Zhai [23] adopted neural networks and a GA to design thinking patterns of NPC roles in order to establish a self-learning model that is more autonomous and intelligent than the traditional NPC roles. \\n',\n",
       " 'In addition, GAs have been used to solve complicated problems effectively. \\n',\n",
       " 'For example, refer to Wu et al. [24], Che [25-27], Che and Wang [28], Chang [29], Sha and Che [30], Che and Wang [31] and Che and Chaing [32].BPLA for FNN training.\\n',\n",
       " 'The BPLA structure is based mainly on batch learning. \\n',\n",
       " 'Through iterations and modifications, the average square errors of test data are used to determine the optimal weights and biases.\\n',\n",
       " 'CPU time to run the BPLA is shorter than that to run the GA. \\n',\n",
       " 'In terms of MSE, the BPLA reports fewer errors than the GA.\\n',\n",
       " 'This study focuses on training a FNN by using a BPLA and GA. \\n',\n",
       " 'To compare the performances of the BPLA and GA, three data sets, Sin function, Iris plants and Diabetes, are employed in this study.\\n',\n",
       " 'According to the measurement indicators, the BPLA is indeed slightly superior to the GA under certain conditions.\\n',\n",
       " 'Also, the BPLA is faster than the GA in terms of training speeds.\\n',\n",
       " 'However, the BPLA has the problem of overtraining, whereas, the GA does not.\\n',\n",
       " 'In terms of CPU time required, the BPLA yields better results than the GA. \\n',\n",
       " 'As far as the influence of diﬀerent learning rates and momentum coeﬃcients on BPLA convergence, the experiments show that learning rates influence the speed of convergence.\\n',\n",
       " 'Also, when the momentum coeﬃcients are small, they also aﬀect the convergence speed of MSE. When the learning rate is high and the momentum coeﬃcient is large, MSE will overly fluctuate.\\n',\n",
       " 'However, when both parameters are not too high, the MSE convergence does not fluatuate. Neural networks have learning and fault-tolerance characteristics.\\n',\n",
       " 'GAs have the capabilities to find the best solutions in global searches.\\n',\n",
       " 'This study finds that in the process of seeking solutions, back-propagation ANNs report more stable convergence of best solutions, but require a larger number of learning cycles. \\n',\n",
       " 'On the other hand, GAs require a smaller number of learning cycles to find the best solutions, but need longer training time. \\n',\n",
       " 'To enhance the FNN training.']"
      ]
     },
     "execution_count": 43,
     "metadata": {},
     "output_type": "execute_result"
    }
   ],
   "source": [
    "# split the the text in the articles into sentences\n",
    "sentences = []\n",
    "for s in file:\n",
    "   sentences.append(s) \n",
    "    \n",
    "sentences"
   ]
  },
  {
   "cell_type": "code",
   "execution_count": 44,
   "metadata": {},
   "outputs": [],
   "source": [
    "# remove punctuations, numbers and special characters\n",
    "clean_sentences = pd.Series(sentences).str.replace(\"[^a-zA-Z]\", \" \")\n",
    "\n",
    "# make alphabets lowercase\n",
    "clean_sentences = [s.lower() for s in clean_sentences]"
   ]
  },
  {
   "cell_type": "code",
   "execution_count": 45,
   "metadata": {},
   "outputs": [],
   "source": [
    "from nltk.corpus import stopwords\n",
    "stop_words = stopwords.words('english')"
   ]
  },
  {
   "cell_type": "code",
   "execution_count": 46,
   "metadata": {},
   "outputs": [],
   "source": [
    "# function to remove stopwords\n",
    "def remove_stopwords(sen):\n",
    "  sen_new = \" \".join([i for i in sen if i not in stop_words])\n",
    "  return sen_new"
   ]
  },
  {
   "cell_type": "code",
   "execution_count": 47,
   "metadata": {},
   "outputs": [],
   "source": [
    "# remove stopwords from the sentences\n",
    "clean_sentences = [remove_stopwords(r.split()) for r in clean_sentences]"
   ]
  },
  {
   "cell_type": "code",
   "execution_count": 48,
   "metadata": {},
   "outputs": [
    {
     "data": {
      "text/plain": [
       "'Run only if you need the files\\n# download pretrained GloVe word embeddings\\n! wget http://nlp.stanford.edu/data/glove.6B.zip\\n'"
      ]
     },
     "execution_count": 48,
     "metadata": {},
     "output_type": "execute_result"
    }
   ],
   "source": [
    "'''Run only if you need the files\n",
    "# download pretrained GloVe word embeddings\n",
    "! wget http://nlp.stanford.edu/data/glove.6B.zip\n",
    "'''"
   ]
  },
  {
   "cell_type": "code",
   "execution_count": 49,
   "metadata": {},
   "outputs": [
    {
     "data": {
      "text/plain": [
       "'! unzip glove*.zip'"
      ]
     },
     "execution_count": 49,
     "metadata": {},
     "output_type": "execute_result"
    }
   ],
   "source": [
    "'''! unzip glove*.zip'''"
   ]
  },
  {
   "cell_type": "code",
   "execution_count": 50,
   "metadata": {},
   "outputs": [],
   "source": [
    "# Extract word vectors\n",
    "word_embeddings = {}\n",
    "f = open('glove.6B.100d.txt', encoding='utf-8')\n",
    "for line in f:\n",
    "    values = line.split()\n",
    "    word = values[0]\n",
    "    coefs = np.asarray(values[1:], dtype='float32')\n",
    "    word_embeddings[word] = coefs\n",
    "f.close()"
   ]
  },
  {
   "cell_type": "code",
   "execution_count": 51,
   "metadata": {},
   "outputs": [],
   "source": [
    "sentence_vectors = []\n",
    "for i in clean_sentences:\n",
    "  if len(i) != 0:\n",
    "    v = sum([word_embeddings.get(w, np.zeros((100,))) for w in i.split()])/(len(i.split())+0.001)\n",
    "  else:\n",
    "    v = np.zeros((100,))\n",
    "  sentence_vectors.append(v)"
   ]
  },
  {
   "cell_type": "code",
   "execution_count": 52,
   "metadata": {},
   "outputs": [
    {
     "data": {
      "text/plain": [
       "69"
      ]
     },
     "execution_count": 52,
     "metadata": {},
     "output_type": "execute_result"
    }
   ],
   "source": [
    "len(sentence_vectors)"
   ]
  },
  {
   "cell_type": "code",
   "execution_count": 53,
   "metadata": {},
   "outputs": [],
   "source": [
    "# similarity matrix\n",
    "sim_mat = np.zeros([len(sentences), len(sentences)])"
   ]
  },
  {
   "cell_type": "code",
   "execution_count": 54,
   "metadata": {},
   "outputs": [],
   "source": [
    "from sklearn.metrics.pairwise import cosine_similarity"
   ]
  },
  {
   "cell_type": "code",
   "execution_count": 55,
   "metadata": {},
   "outputs": [],
   "source": [
    "for i in range(len(sentences)):\n",
    "  for j in range(len(sentences)):\n",
    "    if i != j:\n",
    "      sim_mat[i][j] = cosine_similarity(sentence_vectors[i].reshape(1,100), sentence_vectors[j].reshape(1,100))[0,0]"
   ]
  },
  {
   "cell_type": "code",
   "execution_count": 56,
   "metadata": {},
   "outputs": [],
   "source": [
    "import networkx as nx\n",
    "\n",
    "nx_graph = nx.from_numpy_array(sim_mat)\n",
    "scores = nx.pagerank(nx_graph)"
   ]
  },
  {
   "cell_type": "code",
   "execution_count": 57,
   "metadata": {},
   "outputs": [],
   "source": [
    "ranked_sentences = sorted(((scores[i],s) for i,s in enumerate(sentences)), reverse=True)"
   ]
  },
  {
   "cell_type": "code",
   "execution_count": 59,
   "metadata": {},
   "outputs": [
    {
     "name": "stdout",
     "output_type": "stream",
     "text": [
      "This study finds that in the process of seeking solutions, back-propagation ANNs report more stable convergence of best solutions, but require a larger number of learning cycles. \n",
      "\n",
      "GAs are widely applied in the optimization of the parameters spaces of neural networks. Traditional optimization techniques can also determine the number of network parameters, such as network connection weightings; however, they are not able to control the parameter optimizations in the absence of gradient information.\n",
      "\n",
      "The learning process of an FNN cannot guarantee the global optimum, sometimes trapping the network into the local optimum. The back-propagation learning algorithm (BPLA) is a widely used method for FNN learning in many applications. \n",
      "\n",
      "On the other hand, GAs require a smaller number of learning cycles to find the best solutions, but need longer training time. \n",
      "\n",
      "Che [20] employed a back-propagation ANN for product and mold cost estimation of plastic injection molding. 2.2. Genetic algorithms. GAs were proposed by Holland in 1975, as optimization search mechanisms for natural selection. The fundamental principle is to imitate the law of natural selection in nature by choosing parents with better characteristics. \n",
      "\n"
     ]
    }
   ],
   "source": [
    "# Specify number of sentences to form the summary\n",
    "sn = 5\n",
    "\n",
    "# Generate summary\n",
    "for i in range(sn):\n",
    "  print(ranked_sentences[i][1])"
   ]
  },
  {
   "cell_type": "code",
   "execution_count": null,
   "metadata": {
    "collapsed": true
   },
   "outputs": [],
   "source": []
  }
 ],
 "metadata": {
  "kernelspec": {
   "display_name": "Python 3",
   "language": "python",
   "name": "python3"
  },
  "language_info": {
   "codemirror_mode": {
    "name": "ipython",
    "version": 3
   },
   "file_extension": ".py",
   "mimetype": "text/x-python",
   "name": "python",
   "nbconvert_exporter": "python",
   "pygments_lexer": "ipython3",
   "version": "3.7.4"
  }
 },
 "nbformat": 4,
 "nbformat_minor": 2
}
